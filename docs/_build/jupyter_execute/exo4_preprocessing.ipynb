{
 "cells": [
  {
   "cell_type": "markdown",
   "metadata": {},
   "source": [
    "# Exercise 4 (Preprocessing)"
   ]
  },
  {
   "cell_type": "code",
   "execution_count": 1,
   "metadata": {},
   "outputs": [],
   "source": [
    "import pandas as pd\n",
    "df_wind = pd.read_csv('../data/data_wind.csv')"
   ]
  },
  {
   "cell_type": "code",
   "execution_count": 2,
   "metadata": {},
   "outputs": [
    {
     "data": {
      "text/html": [
       "<div>\n",
       "<style scoped>\n",
       "    .dataframe tbody tr th:only-of-type {\n",
       "        vertical-align: middle;\n",
       "    }\n",
       "\n",
       "    .dataframe tbody tr th {\n",
       "        vertical-align: top;\n",
       "    }\n",
       "\n",
       "    .dataframe thead th {\n",
       "        text-align: right;\n",
       "    }\n",
       "</style>\n",
       "<table border=\"1\" class=\"dataframe\">\n",
       "  <thead>\n",
       "    <tr style=\"text-align: right;\">\n",
       "      <th></th>\n",
       "      <th>HORA (UTC)</th>\n",
       "      <th>VENTO, DIREï¿½ï¿½O HORARIA (gr) (ï¿½ (gr))</th>\n",
       "      <th>VENTO, VELOCIDADE HORARIA (m/s)</th>\n",
       "      <th>UMIDADE REL. MAX. NA HORA ANT. (AUT) (%)</th>\n",
       "      <th>UMIDADE REL. MIN. NA HORA ANT. (AUT) (%)</th>\n",
       "      <th>TEMPERATURA Mï¿½XIMA NA HORA ANT. (AUT) (ï¿½C)</th>\n",
       "      <th>TEMPERATURA Mï¿½NIMA NA HORA ANT. (AUT) (ï¿½C)</th>\n",
       "      <th>UMIDADE RELATIVA DO AR, HORARIA (%)</th>\n",
       "      <th>PRESSAO ATMOSFERICA AO NIVEL DA ESTACAO, HORARIA (mB)</th>\n",
       "      <th>PRECIPITAï¿½ï¿½O TOTAL, HORï¿½RIO (mm)</th>\n",
       "      <th>VENTO, RAJADA MAXIMA (m/s)</th>\n",
       "      <th>PRESSï¿½O ATMOSFERICA MAX.NA HORA ANT. (AUT) (mB)</th>\n",
       "      <th>PRESSï¿½O ATMOSFERICA MIN. NA HORA ANT. (AUT) (mB)</th>\n",
       "    </tr>\n",
       "  </thead>\n",
       "  <tbody>\n",
       "    <tr>\n",
       "      <th>0</th>\n",
       "      <td>12:00</td>\n",
       "      <td>0.809017</td>\n",
       "      <td>1.8</td>\n",
       "      <td>69.0</td>\n",
       "      <td>60.0</td>\n",
       "      <td>22.6</td>\n",
       "      <td>20.7</td>\n",
       "      <td>61.0</td>\n",
       "      <td>888.2</td>\n",
       "      <td>0.0</td>\n",
       "      <td>3.8</td>\n",
       "      <td>888.2</td>\n",
       "      <td>887.7</td>\n",
       "    </tr>\n",
       "    <tr>\n",
       "      <th>1</th>\n",
       "      <td>13:00</td>\n",
       "      <td>0.965926</td>\n",
       "      <td>2.7</td>\n",
       "      <td>62.0</td>\n",
       "      <td>55.0</td>\n",
       "      <td>24.2</td>\n",
       "      <td>22.5</td>\n",
       "      <td>55.0</td>\n",
       "      <td>888.4</td>\n",
       "      <td>0.0</td>\n",
       "      <td>4.7</td>\n",
       "      <td>888.4</td>\n",
       "      <td>888.2</td>\n",
       "    </tr>\n",
       "    <tr>\n",
       "      <th>2</th>\n",
       "      <td>14:00</td>\n",
       "      <td>0.891007</td>\n",
       "      <td>2.0</td>\n",
       "      <td>56.0</td>\n",
       "      <td>50.0</td>\n",
       "      <td>25.5</td>\n",
       "      <td>24.3</td>\n",
       "      <td>51.0</td>\n",
       "      <td>888.1</td>\n",
       "      <td>0.0</td>\n",
       "      <td>4.9</td>\n",
       "      <td>888.4</td>\n",
       "      <td>888.1</td>\n",
       "    </tr>\n",
       "    <tr>\n",
       "      <th>3</th>\n",
       "      <td>15:00</td>\n",
       "      <td>0.848048</td>\n",
       "      <td>2.5</td>\n",
       "      <td>52.0</td>\n",
       "      <td>44.0</td>\n",
       "      <td>27.4</td>\n",
       "      <td>25.0</td>\n",
       "      <td>44.0</td>\n",
       "      <td>887.4</td>\n",
       "      <td>0.0</td>\n",
       "      <td>5.8</td>\n",
       "      <td>888.1</td>\n",
       "      <td>887.4</td>\n",
       "    </tr>\n",
       "    <tr>\n",
       "      <th>4</th>\n",
       "      <td>16:00</td>\n",
       "      <td>0.224951</td>\n",
       "      <td>2.4</td>\n",
       "      <td>50.0</td>\n",
       "      <td>43.0</td>\n",
       "      <td>27.1</td>\n",
       "      <td>25.5</td>\n",
       "      <td>46.0</td>\n",
       "      <td>886.5</td>\n",
       "      <td>0.0</td>\n",
       "      <td>5.8</td>\n",
       "      <td>887.4</td>\n",
       "      <td>886.5</td>\n",
       "    </tr>\n",
       "  </tbody>\n",
       "</table>\n",
       "</div>"
      ],
      "text/plain": [
       "  HORA (UTC)  VENTO, DIREï¿½ï¿½O HORARIA (gr) (ï¿½ (gr))  \\\n",
       "0      12:00                                    0.809017   \n",
       "1      13:00                                    0.965926   \n",
       "2      14:00                                    0.891007   \n",
       "3      15:00                                    0.848048   \n",
       "4      16:00                                    0.224951   \n",
       "\n",
       "   VENTO, VELOCIDADE HORARIA (m/s)  UMIDADE REL. MAX. NA HORA ANT. (AUT) (%)  \\\n",
       "0                              1.8                                      69.0   \n",
       "1                              2.7                                      62.0   \n",
       "2                              2.0                                      56.0   \n",
       "3                              2.5                                      52.0   \n",
       "4                              2.4                                      50.0   \n",
       "\n",
       "   UMIDADE REL. MIN. NA HORA ANT. (AUT) (%)  \\\n",
       "0                                      60.0   \n",
       "1                                      55.0   \n",
       "2                                      50.0   \n",
       "3                                      44.0   \n",
       "4                                      43.0   \n",
       "\n",
       "   TEMPERATURA Mï¿½XIMA NA HORA ANT. (AUT) (ï¿½C)  \\\n",
       "0                                            22.6   \n",
       "1                                            24.2   \n",
       "2                                            25.5   \n",
       "3                                            27.4   \n",
       "4                                            27.1   \n",
       "\n",
       "   TEMPERATURA Mï¿½NIMA NA HORA ANT. (AUT) (ï¿½C)  \\\n",
       "0                                            20.7   \n",
       "1                                            22.5   \n",
       "2                                            24.3   \n",
       "3                                            25.0   \n",
       "4                                            25.5   \n",
       "\n",
       "   UMIDADE RELATIVA DO AR, HORARIA (%)  \\\n",
       "0                                 61.0   \n",
       "1                                 55.0   \n",
       "2                                 51.0   \n",
       "3                                 44.0   \n",
       "4                                 46.0   \n",
       "\n",
       "   PRESSAO ATMOSFERICA AO NIVEL DA ESTACAO, HORARIA (mB)  \\\n",
       "0                                              888.2       \n",
       "1                                              888.4       \n",
       "2                                              888.1       \n",
       "3                                              887.4       \n",
       "4                                              886.5       \n",
       "\n",
       "   PRECIPITAï¿½ï¿½O TOTAL, HORï¿½RIO (mm)  VENTO, RAJADA MAXIMA (m/s)  \\\n",
       "0                                     0.0                         3.8   \n",
       "1                                     0.0                         4.7   \n",
       "2                                     0.0                         4.9   \n",
       "3                                     0.0                         5.8   \n",
       "4                                     0.0                         5.8   \n",
       "\n",
       "   PRESSï¿½O ATMOSFERICA MAX.NA HORA ANT. (AUT) (mB)  \\\n",
       "0                                              888.2   \n",
       "1                                              888.4   \n",
       "2                                              888.4   \n",
       "3                                              888.1   \n",
       "4                                              887.4   \n",
       "\n",
       "   PRESSï¿½O ATMOSFERICA MIN. NA HORA ANT. (AUT) (mB)  \n",
       "0                                              887.7   \n",
       "1                                              888.2   \n",
       "2                                              888.1   \n",
       "3                                              887.4   \n",
       "4                                              886.5   "
      ]
     },
     "execution_count": 2,
     "metadata": {},
     "output_type": "execute_result"
    }
   ],
   "source": [
    "df_wind.head()"
   ]
  },
  {
   "cell_type": "code",
   "execution_count": 3,
   "metadata": {},
   "outputs": [
    {
     "data": {
      "text/plain": [
       "Index(['HORA (UTC)', 'VENTO, DIREï¿½ï¿½O HORARIA (gr) (ï¿½ (gr))',\n",
       "       'VENTO, VELOCIDADE HORARIA (m/s)',\n",
       "       'UMIDADE REL. MAX. NA HORA ANT. (AUT) (%)',\n",
       "       'UMIDADE REL. MIN. NA HORA ANT. (AUT) (%)',\n",
       "       'TEMPERATURA Mï¿½XIMA NA HORA ANT. (AUT) (ï¿½C)',\n",
       "       'TEMPERATURA Mï¿½NIMA NA HORA ANT. (AUT) (ï¿½C)',\n",
       "       'UMIDADE RELATIVA DO AR, HORARIA (%)',\n",
       "       'PRESSAO ATMOSFERICA AO NIVEL DA ESTACAO, HORARIA (mB)',\n",
       "       'PRECIPITAï¿½ï¿½O TOTAL, HORï¿½RIO (mm)', 'VENTO, RAJADA MAXIMA (m/s)',\n",
       "       'PRESSï¿½O ATMOSFERICA MAX.NA HORA ANT. (AUT) (mB)',\n",
       "       'PRESSï¿½O ATMOSFERICA MIN. NA HORA ANT. (AUT) (mB)'],\n",
       "      dtype='object')"
      ]
     },
     "execution_count": 3,
     "metadata": {},
     "output_type": "execute_result"
    }
   ],
   "source": [
    "df_wind.columns"
   ]
  },
  {
   "cell_type": "markdown",
   "metadata": {},
   "source": [
    "## Rename columns"
   ]
  },
  {
   "cell_type": "code",
   "execution_count": 4,
   "metadata": {},
   "outputs": [
    {
     "data": {
      "text/plain": [
       "Index(['Hour', 'Wind direction (gr)', 'Wind speed (m/s)',\n",
       "       'Relative humidity max (%)', 'Relative humidity min (%)',\n",
       "       'Temperature min (℃)', 'Temperature max (℃)', 'Relative humidity (%)',\n",
       "       'Atmospheric pressure at station level (mB)', 'Precipitation (mm)',\n",
       "       'Wind gust max (m/s)', 'Atmospheric pressure max (mB)',\n",
       "       'Atmospheric pressure min (mB)'],\n",
       "      dtype='object')"
      ]
     },
     "execution_count": 4,
     "metadata": {},
     "output_type": "execute_result"
    }
   ],
   "source": [
    "new_columns = [\n",
    "    'Hour',\n",
    "    'Wind direction (gr)',\n",
    "    'Wind speed (m/s)',\n",
    "    'Relative humidity max (%)',\n",
    "    'Relative humidity min (%)',\n",
    "    'Temperature min (℃)',\n",
    "    'Temperature max (℃)',\n",
    "    'Relative humidity (%)',\n",
    "    'Atmospheric pressure at station level (mB)',\n",
    "    'Precipitation (mm)',\n",
    "    'Wind gust max (m/s)',\n",
    "    'Atmospheric pressure max (mB)',\n",
    "    'Atmospheric pressure min (mB)'\n",
    "]\n",
    "\n",
    "df_wind.rename(columns=dict(zip(df_wind.columns, new_columns)), inplace=True)\n",
    "df_wind.columns"
   ]
  },
  {
   "cell_type": "code",
   "execution_count": 5,
   "metadata": {},
   "outputs": [
    {
     "name": "stdout",
     "output_type": "stream",
     "text": [
      "Added 2583 empty rows\n"
     ]
    }
   ],
   "source": [
    "total_added = 0\n",
    "\n",
    "for _ in range(23):\n",
    "    hours = df_wind['Hour']\n",
    "    idx = 0\n",
    "    nb_added = 0\n",
    "\n",
    "    while idx < len(hours) - 1:\n",
    "        cur_hour = int(hours[idx].split(':')[0])\n",
    "        next_hour = int(hours[idx + 1].split(':')[0])\n",
    "        if next_hour != (cur_hour + 1) % 24:\n",
    "            if (cur_hour + 1) % 24 < 10:\n",
    "                new_str = \"0\"+str((cur_hour + 1) % 24)+\":00\"\n",
    "            else:\n",
    "                new_str = str((cur_hour + 1) % 24)+\":00\"\n",
    "            new_row = pd.DataFrame({'Hour': [new_str]})\n",
    "            df_wind = pd.concat([df_wind.iloc[:idx + nb_added + 1], new_row, df_wind.iloc[idx + nb_added + 1:]], ignore_index=True)\n",
    "            nb_added += 1\n",
    "        idx += 1\n",
    "    total_added += nb_added\n",
    "\n",
    "print(f\"Added {total_added} empty rows\")"
   ]
  },
  {
   "cell_type": "markdown",
   "metadata": {},
   "source": [
    "The hour is given as a string. Considered we have data for almost ten years, we can change the format of the hour, starting with a given year, for instance the year 2000."
   ]
  },
  {
   "cell_type": "code",
   "execution_count": 6,
   "metadata": {},
   "outputs": [],
   "source": [
    "import datetime as dt\n",
    "\n",
    "start_date = dt.datetime(2000, 1, 1, int(df_wind['Hour'][0][:2]))\n",
    "\n",
    "df_wind['Date'] = [start_date + dt.timedelta(hours=i) for i in range(len(df_wind['Hour']))]"
   ]
  },
  {
   "cell_type": "markdown",
   "metadata": {},
   "source": [
    "## International system units"
   ]
  },
  {
   "cell_type": "code",
   "execution_count": 7,
   "metadata": {},
   "outputs": [
    {
     "data": {
      "text/plain": [
       "Index(['Atmospheric pressure at station level (Pa)',\n",
       "       'Atmospheric pressure max (Pa)', 'Atmospheric pressure min (Pa)',\n",
       "       'Date', 'Hour', 'Precipitation (m)', 'Relative humidity',\n",
       "       'Relative humidity max', 'Relative humidity min', 'Temperature max (K)',\n",
       "       'Temperature min (K)', 'Wind direction (gr)', 'Wind gust max (m/s)',\n",
       "       'Wind speed (m/s)'],\n",
       "      dtype='object')"
      ]
     },
     "execution_count": 7,
     "metadata": {},
     "output_type": "execute_result"
    }
   ],
   "source": [
    "df_wind['Hour'] = df_wind['Hour'].apply(lambda x: int(x.split(':')[0]))\n",
    "\n",
    "df_wind['Relative humidity max'] = df_wind['Relative humidity max (%)'].apply(lambda x: x/100)\n",
    "df_wind.drop(columns=['Relative humidity max (%)'], inplace=True)\n",
    "\n",
    "df_wind['Relative humidity min'] = df_wind['Relative humidity min (%)'].apply(lambda x: x/100)\n",
    "df_wind.drop(columns=['Relative humidity min (%)'], inplace=True)\n",
    "\n",
    "df_wind['Temperature max (K)'] = df_wind['Temperature max (℃)'].apply(lambda x: x+273.15)\n",
    "df_wind.drop(columns=['Temperature max (℃)'], inplace=True)\n",
    "\n",
    "df_wind['Temperature min (K)'] = df_wind['Temperature min (℃)'].apply(lambda x: x+273.15)\n",
    "df_wind.drop(columns=['Temperature min (℃)'], inplace=True)\n",
    "\n",
    "df_wind['Relative humidity'] = df_wind['Relative humidity (%)'].apply(lambda x: x/100)\n",
    "df_wind.drop(columns=['Relative humidity (%)'], inplace=True)\n",
    "\n",
    "df_wind['Atmospheric pressure at station level (Pa)'] = df_wind['Atmospheric pressure at station level (mB)'].apply(lambda x: x*100)\n",
    "df_wind.drop(columns=['Atmospheric pressure at station level (mB)'], inplace=True)\n",
    "\n",
    "df_wind['Precipitation (m)'] = df_wind['Precipitation (mm)'].apply(lambda x: x/1000)\n",
    "df_wind.drop(columns=['Precipitation (mm)'], inplace=True)\n",
    "\n",
    "df_wind['Atmospheric pressure max (Pa)'] = df_wind['Atmospheric pressure max (mB)'].apply(lambda x: x*100)\n",
    "df_wind.drop(columns=['Atmospheric pressure max (mB)'], inplace=True)\n",
    "\n",
    "df_wind['Atmospheric pressure min (Pa)'] = df_wind['Atmospheric pressure min (mB)'].apply(lambda x: x*100)\n",
    "df_wind.drop(columns=['Atmospheric pressure min (mB)'], inplace=True)\n",
    "\n",
    "df_wind.columns.sort_values()"
   ]
  },
  {
   "cell_type": "code",
   "execution_count": 8,
   "metadata": {},
   "outputs": [
    {
     "data": {
      "text/html": [
       "<div>\n",
       "<style scoped>\n",
       "    .dataframe tbody tr th:only-of-type {\n",
       "        vertical-align: middle;\n",
       "    }\n",
       "\n",
       "    .dataframe tbody tr th {\n",
       "        vertical-align: top;\n",
       "    }\n",
       "\n",
       "    .dataframe thead th {\n",
       "        text-align: right;\n",
       "    }\n",
       "</style>\n",
       "<table border=\"1\" class=\"dataframe\">\n",
       "  <thead>\n",
       "    <tr style=\"text-align: right;\">\n",
       "      <th></th>\n",
       "      <th>Hour</th>\n",
       "      <th>Wind direction (gr)</th>\n",
       "      <th>Wind speed (m/s)</th>\n",
       "      <th>Wind gust max (m/s)</th>\n",
       "      <th>Date</th>\n",
       "      <th>Relative humidity max</th>\n",
       "      <th>Relative humidity min</th>\n",
       "      <th>Temperature max (K)</th>\n",
       "      <th>Temperature min (K)</th>\n",
       "      <th>Relative humidity</th>\n",
       "      <th>Atmospheric pressure at station level (Pa)</th>\n",
       "      <th>Precipitation (m)</th>\n",
       "      <th>Atmospheric pressure max (Pa)</th>\n",
       "      <th>Atmospheric pressure min (Pa)</th>\n",
       "    </tr>\n",
       "  </thead>\n",
       "  <tbody>\n",
       "    <tr>\n",
       "      <th>0</th>\n",
       "      <td>12</td>\n",
       "      <td>0.809017</td>\n",
       "      <td>1.8</td>\n",
       "      <td>3.8</td>\n",
       "      <td>2000-01-01 12:00:00</td>\n",
       "      <td>0.69</td>\n",
       "      <td>0.60</td>\n",
       "      <td>293.85</td>\n",
       "      <td>295.75</td>\n",
       "      <td>0.61</td>\n",
       "      <td>88820.0</td>\n",
       "      <td>0.0</td>\n",
       "      <td>88820.0</td>\n",
       "      <td>88770.0</td>\n",
       "    </tr>\n",
       "    <tr>\n",
       "      <th>1</th>\n",
       "      <td>13</td>\n",
       "      <td>0.965926</td>\n",
       "      <td>2.7</td>\n",
       "      <td>4.7</td>\n",
       "      <td>2000-01-01 13:00:00</td>\n",
       "      <td>0.62</td>\n",
       "      <td>0.55</td>\n",
       "      <td>295.65</td>\n",
       "      <td>297.35</td>\n",
       "      <td>0.55</td>\n",
       "      <td>88840.0</td>\n",
       "      <td>0.0</td>\n",
       "      <td>88840.0</td>\n",
       "      <td>88820.0</td>\n",
       "    </tr>\n",
       "    <tr>\n",
       "      <th>2</th>\n",
       "      <td>14</td>\n",
       "      <td>0.891007</td>\n",
       "      <td>2.0</td>\n",
       "      <td>4.9</td>\n",
       "      <td>2000-01-01 14:00:00</td>\n",
       "      <td>0.56</td>\n",
       "      <td>0.50</td>\n",
       "      <td>297.45</td>\n",
       "      <td>298.65</td>\n",
       "      <td>0.51</td>\n",
       "      <td>88810.0</td>\n",
       "      <td>0.0</td>\n",
       "      <td>88840.0</td>\n",
       "      <td>88810.0</td>\n",
       "    </tr>\n",
       "    <tr>\n",
       "      <th>3</th>\n",
       "      <td>15</td>\n",
       "      <td>0.848048</td>\n",
       "      <td>2.5</td>\n",
       "      <td>5.8</td>\n",
       "      <td>2000-01-01 15:00:00</td>\n",
       "      <td>0.52</td>\n",
       "      <td>0.44</td>\n",
       "      <td>298.15</td>\n",
       "      <td>300.55</td>\n",
       "      <td>0.44</td>\n",
       "      <td>88740.0</td>\n",
       "      <td>0.0</td>\n",
       "      <td>88810.0</td>\n",
       "      <td>88740.0</td>\n",
       "    </tr>\n",
       "    <tr>\n",
       "      <th>4</th>\n",
       "      <td>16</td>\n",
       "      <td>0.224951</td>\n",
       "      <td>2.4</td>\n",
       "      <td>5.8</td>\n",
       "      <td>2000-01-01 16:00:00</td>\n",
       "      <td>0.50</td>\n",
       "      <td>0.43</td>\n",
       "      <td>298.65</td>\n",
       "      <td>300.25</td>\n",
       "      <td>0.46</td>\n",
       "      <td>88650.0</td>\n",
       "      <td>0.0</td>\n",
       "      <td>88740.0</td>\n",
       "      <td>88650.0</td>\n",
       "    </tr>\n",
       "  </tbody>\n",
       "</table>\n",
       "</div>"
      ],
      "text/plain": [
       "   Hour  Wind direction (gr)  Wind speed (m/s)  Wind gust max (m/s)  \\\n",
       "0    12             0.809017               1.8                  3.8   \n",
       "1    13             0.965926               2.7                  4.7   \n",
       "2    14             0.891007               2.0                  4.9   \n",
       "3    15             0.848048               2.5                  5.8   \n",
       "4    16             0.224951               2.4                  5.8   \n",
       "\n",
       "                 Date  Relative humidity max  Relative humidity min  \\\n",
       "0 2000-01-01 12:00:00                   0.69                   0.60   \n",
       "1 2000-01-01 13:00:00                   0.62                   0.55   \n",
       "2 2000-01-01 14:00:00                   0.56                   0.50   \n",
       "3 2000-01-01 15:00:00                   0.52                   0.44   \n",
       "4 2000-01-01 16:00:00                   0.50                   0.43   \n",
       "\n",
       "   Temperature max (K)  Temperature min (K)  Relative humidity  \\\n",
       "0               293.85               295.75               0.61   \n",
       "1               295.65               297.35               0.55   \n",
       "2               297.45               298.65               0.51   \n",
       "3               298.15               300.55               0.44   \n",
       "4               298.65               300.25               0.46   \n",
       "\n",
       "   Atmospheric pressure at station level (Pa)  Precipitation (m)  \\\n",
       "0                                     88820.0                0.0   \n",
       "1                                     88840.0                0.0   \n",
       "2                                     88810.0                0.0   \n",
       "3                                     88740.0                0.0   \n",
       "4                                     88650.0                0.0   \n",
       "\n",
       "   Atmospheric pressure max (Pa)  Atmospheric pressure min (Pa)  \n",
       "0                        88820.0                        88770.0  \n",
       "1                        88840.0                        88820.0  \n",
       "2                        88840.0                        88810.0  \n",
       "3                        88810.0                        88740.0  \n",
       "4                        88740.0                        88650.0  "
      ]
     },
     "execution_count": 8,
     "metadata": {},
     "output_type": "execute_result"
    }
   ],
   "source": [
    "df_wind.head()"
   ]
  },
  {
   "cell_type": "markdown",
   "metadata": {},
   "source": [
    "## Imputation"
   ]
  },
  {
   "cell_type": "code",
   "execution_count": 9,
   "metadata": {},
   "outputs": [],
   "source": [
    "import warnings\n",
    "warnings.filterwarnings('ignore')\n",
    "\n",
    "data_wind_imputed = df_wind.interpolate(method='linear', axis=0)    "
   ]
  },
  {
   "cell_type": "markdown",
   "metadata": {},
   "source": [
    "## Delete multicolinearity with VIF"
   ]
  },
  {
   "cell_type": "code",
   "execution_count": 11,
   "metadata": {},
   "outputs": [
    {
     "name": "stdout",
     "output_type": "stream",
     "text": [
      "Dropped column Atmospheric pressure min (Pa) with VIF: 953187.2 (0s)\n",
      "Dropped column Temperature min (K) with VIF: 427532.4 (0s)\n",
      "Dropped column Atmospheric pressure max (Pa) with VIF: 238868.4 (0s)\n",
      "Dropped column Atmospheric pressure at station level (Pa) with VIF: 9345.0 (0s)\n",
      "Dropped column Relative humidity with VIF: 592.7 (0s)\n",
      "Dropped column Relative humidity max with VIF: 309.6 (0s)\n",
      "Dropped column Temperature max (K) with VIF: 24.6 (0s)\n"
     ]
    }
   ],
   "source": [
    "from utils import delete_multicollinearity\n",
    "\n",
    "import warnings\n",
    "warnings.filterwarnings('ignore')\n",
    "\n",
    "df_VIF = data_wind_imputed.drop(columns=['Date', 'Hour'])\n",
    "\n",
    "df_wind_preprocessed = delete_multicollinearity(df_VIF, 'Wind speed (m/s)', 10)\n",
    "df_wind_preprocessed = pd.concat([df_wind_preprocessed, data_wind_imputed[['Wind speed (m/s)', 'Date', 'Hour']]], axis=1)"
   ]
  },
  {
   "cell_type": "code",
   "execution_count": null,
   "metadata": {},
   "outputs": [],
   "source": [
    "# df_wind_preprocessed = data_wind_imputed.drop(columns=[\n",
    "#     'Atmospheric pressure min (Pa)',\n",
    "#     'Temperature min (K)',\n",
    "#     'Atmospheric pressure max (Pa)'\n",
    "# ])"
   ]
  },
  {
   "cell_type": "code",
   "execution_count": 13,
   "metadata": {},
   "outputs": [
    {
     "name": "stdout",
     "output_type": "stream",
     "text": [
      "(90276, 7)\n",
      "['Wind direction (gr)', 'Wind gust max (m/s)', 'Relative humidity min', 'Precipitation (m)', 'Wind speed (m/s)', 'Date', 'Hour']\n"
     ]
    }
   ],
   "source": [
    "print(df_wind_preprocessed.shape)\n",
    "print(df_wind_preprocessed.columns.to_list())"
   ]
  },
  {
   "cell_type": "code",
   "execution_count": 14,
   "metadata": {},
   "outputs": [],
   "source": [
    "df_wind_preprocessed.to_csv('../data/data_wind_preprocessed1.csv', index=False)"
   ]
  }
 ],
 "metadata": {
  "kernelspec": {
   "display_name": "ml_venv",
   "language": "python",
   "name": "python3"
  },
  "language_info": {
   "codemirror_mode": {
    "name": "ipython",
    "version": 3
   },
   "file_extension": ".py",
   "mimetype": "text/x-python",
   "name": "python",
   "nbconvert_exporter": "python",
   "pygments_lexer": "ipython3",
   "version": "3.9.18"
  }
 },
 "nbformat": 4,
 "nbformat_minor": 2
}